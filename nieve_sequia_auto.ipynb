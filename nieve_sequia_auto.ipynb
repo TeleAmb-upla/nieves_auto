{
 "cells": [
  {
   "attachments": {},
   "cell_type": "markdown",
   "metadata": {},
   "source": [
    "**Script que genera SCI y CCI de la última imágen disponible en el catálogo de GEE.**\n",
    "\n",
    "SCI: Snow Cover Index\n",
    "\n",
    "CCI: Cloud Cover Index\n",
    "\n",
    "Este script tiene el proposito de automatizar el proceso de exportación del promedio mensual de SCI y CCI. "
   ]
  },
  {
   "attachments": {},
   "cell_type": "markdown",
   "metadata": {},
   "source": [
    "To automate you need to sign-in using a service account\n",
    "1. Create or Select a Google Cloud Project\n",
    "2. Enable the project for 'Earth Engine API'\n",
    "3. Create a service Account\n",
    "    3.1 Grant role: Earth Engine Resource Writer (Avoiding Manage role to limit risk)\n",
    "4. Create keys for service account (json file). Store this file securely\n",
    "5. Activate the service account for GEE here (https://signup.earthengine.google.com/#!/service_accounts)\n",
    "6. test sign in from python."
   ]
  },
  {
   "cell_type": "code",
   "execution_count": 3,
   "metadata": {},
   "outputs": [],
   "source": [
    "# libraries\n",
    "import ee\n",
    "import geemap\n",
    "from datetime import datetime, timedelta\n",
    "import pytz\n",
    "import json\n",
    "import pprint\n",
    "import pathlib\n",
    "from time import sleep\n",
    "from yaspin import yaspin\n",
    "import os"
   ]
  },
  {
   "cell_type": "code",
   "execution_count": 1,
   "metadata": {},
   "outputs": [],
   "source": [
    "# Custom libraries\n",
    "import nieve_sequia_auto as nsa"
   ]
  },
  {
   "cell_type": "code",
   "execution_count": 4,
   "metadata": {},
   "outputs": [],
   "source": [
    "# Constants\n",
    "SNOW_SERVICE_USER = 'odes-nieve@ee-proyectosequiateleamb.iam.gserviceaccount.com'\n",
    "SNOW_SERVICE_CREDENTIALS_FILE = 'credentials/ee-proyectosequiateleamb-22dbf24d5c96.json'\n",
    "SNOW_REGIONS_ASSET_PATH = 'users/proyectosequiateleamb/Regiones/DPA_regiones_nacional'\n",
    "SNOW_EXPORT_TO = 'toAsset'\n",
    "SNOW_ASSETS_PATH = 'projects/ee-proyectosequiateleamb/assets/nieve/raster_sci_cci'\n",
    "SNOW_DRIVE_PATH = None\n",
    "GEE_PATHPREFIX = 'projects/earthengine-legacy/assets/'\n",
    "#SAVED_IMAGES_PATH = 'projects/ee-chompitest/assets/snow/Raster_SCI_CCI'\n",
    "MODIS_MIN_MONTH = '2000-03'\n",
    "UTC_TZ=pytz.timezone('UTC')\n",
    "# Temporary test constants\n",
    "#SNOW_ASSETS_PATH = 'projects/ee-chompitest/assets/snow/Raster_SCI_CCI'\n",
    "#SNOW_SERVICE_USER = 'odes-nieve@ee-proyectosequiateleamb.iam.gserviceaccount.com'\n",
    "#SNOW_SERVICE_CREDENTIALS_FILE = 'credentials/ee-proyectosequiateleamb-22dbf24d5c96.json'\n",
    "#SNOW_MONTHS_TO_EXPORT = ['2022-12-01', '2022-11-01', '2022-10-01', '2022-09-01']\n"
   ]
  },
  {
   "cell_type": "code",
   "execution_count": 5,
   "metadata": {},
   "outputs": [],
   "source": [
    "# Use this if you want to export specific months\n",
    "# SNOW_MONTHS_TO_EXPORT: None\n",
    "SNOW_MONTHS_TO_EXPORT= [\"2022-12-01\", \"2022-11-01\", \"2022-10-01\"]"
   ]
  },
  {
   "cell_type": "code",
   "execution_count": 6,
   "metadata": {},
   "outputs": [],
   "source": [
    "# Replace Credentials with your service account\n",
    "credentials = ee.ServiceAccountCredentials(SNOW_SERVICE_USER, SNOW_SERVICE_CREDENTIALS_FILE )\n",
    "ee.Initialize(credentials)    "
   ]
  },
  {
   "cell_type": "code",
   "execution_count": 7,
   "metadata": {},
   "outputs": [
    {
     "name": "stdout",
     "output_type": "stream",
     "text": [
      "Searching for: users/proyectosequiateleamb/Regiones/DPA_regiones_nacional\n",
      "projects/earthengine-legacy/assets/users/proyectosequiateleamb/Regiones/DPA_regiones_nacional:TABLE\n",
      "projects/earthengine-legacy/assets/users/proyectosequiateleamb/Regiones/regiones_DPA:TABLE\n",
      "Found 2 assets\n",
      "Asset successfully found: True\n"
     ]
    }
   ],
   "source": [
    "# Get feature collection for DPA territorio Nacional if found\n",
    "if nsa.check_asset_exists(SNOW_REGIONS_ASSET_PATH, \"TABLE\"):\n",
    "    ee_territorio_nacional = ee.FeatureCollection(SNOW_REGIONS_ASSET_PATH)\n"
   ]
  },
  {
   "cell_type": "code",
   "execution_count": 8,
   "metadata": {},
   "outputs": [
    {
     "name": "stdout",
     "output_type": "stream",
     "text": [
      "Last complete month: 2022-12\n"
     ]
    }
   ],
   "source": [
    "# Get MODIS image Collection and take date from the last image.\n",
    "# Remove images from current month to avoid incomplete months\n",
    "# Check if previous month has all the images for the month\n",
    "# Remove the month if not complete\n",
    "\n",
    "ee_MODIS_collection = (ee.ImageCollection('MODIS/006/MOD10A1'))\n",
    "ee_MODIS_collection = ee_MODIS_collection.filterDate(MODIS_MIN_MONTH, nsa.current_year_month())\n",
    "ee_MODIS_collection = nsa.rm_incomplete_months_from_ic(ee_MODIS_collection)"
   ]
  },
  {
   "cell_type": "code",
   "execution_count": 9,
   "metadata": {},
   "outputs": [
    {
     "name": "stdout",
     "output_type": "stream",
     "text": [
      "Total images in collection: 8273\n",
      "Distinct months in collection: 273\n",
      "first month: 2000-03-01\n",
      "last month: 2022-12-01\n"
     ]
    }
   ],
   "source": [
    "# Get distinct months in MODIS collection\n",
    "MODIS_distinct_months = nsa.get_ic_distinct_months(ee_MODIS_collection)\n"
   ]
  },
  {
   "cell_type": "code",
   "execution_count": 10,
   "metadata": {},
   "outputs": [
    {
     "name": "stdout",
     "output_type": "stream",
     "text": [
      "projects/ee-proyectosequiateleamb/assets/nieve/raster_sci_cci/MOD10A1_SCI_CCI_2022-12:IMAGE\n",
      "Total images saved in folder: 1\n",
      "first month saved: 2022-12-01\n",
      "last month saved: 2022-12-01\n"
     ]
    }
   ],
   "source": [
    "# Get list of months of images already saved \n",
    "# TODO: Need to add option to search by asset type\n",
    "saved_assets=nsa.get_asset_list(SNOW_ASSETS_PATH, \"IMAGE\")\n",
    "saved_assets_months = [date[-7:]+'-01' for date in saved_assets]\n",
    "saved_assets_months.sort(reverse=True)\n",
    "print(f\"Total images saved in folder: {len(saved_assets_months)}\")\n",
    "if len(saved_assets_months)>0:\n",
    "    print(f\"first month saved: {saved_assets_months[-1]}\")\n",
    "    print(f\"last month saved: {saved_assets_months[0]}\")\n",
    "# mising_months = [date for date in MODIS_distinct_months if date not in saved_assets_months]"
   ]
  },
  {
   "cell_type": "code",
   "execution_count": 20,
   "metadata": {},
   "outputs": [
    {
     "name": "stdout",
     "output_type": "stream",
     "text": [
      "Months already saved: ['2022-12-01']\n",
      "Months to save: ['2022-11-01', '2022-10-01']\n"
     ]
    }
   ],
   "source": [
    "# Save images of months in SNOW_MONTHS_TO_EXPORT otherwise save\n",
    "# the last available month in MODIS\n",
    "if SNOW_MONTHS_TO_EXPORT == None:\n",
    "    try: \n",
    "        last_available = MODIS_distinct_months[0]\n",
    "        months_to_save=[last_available]\n",
    "    except:\n",
    "        months_to_save=[]\n",
    "else:\n",
    "    months_to_save=SNOW_MONTHS_TO_EXPORT\n",
    "\n",
    "# Check if months to save have already been saved\n",
    "months_already_saved = [month for month in months_to_save if month in saved_assets_months]\n",
    "months_to_save = [month for month in months_to_save if month not in months_already_saved]\n",
    "\n",
    "if len(months_already_saved) >= 1:\n",
    "    print(f\"Months already saved: {months_already_saved}\")\n",
    "\n",
    "if len(months_to_save)==0:\n",
    "    print(f\"No new months to save. Exiting script\")\n",
    "else:\n",
    "    print(f\"Months to save: {months_to_save}\")"
   ]
  },
  {
   "cell_type": "code",
   "execution_count": 14,
   "metadata": {},
   "outputs": [],
   "source": [
    "\n",
    "# Calculate and select SCI (snow) and CCI (cloud) bands \n",
    "ee_snow_cloud_collection = ee_MODIS_collection.map(nsa.snow_cloud_mask).select('SCI', 'CCI');\n"
   ]
  },
  {
   "cell_type": "code",
   "execution_count": 21,
   "metadata": {},
   "outputs": [
    {
     "name": "stdout",
     "output_type": "stream",
     "text": [
      "Processing: 2022-11-01 - 2022-12-01\n",
      "Processing: 2022-10-01 - 2022-11-01\n"
     ]
    }
   ],
   "source": [
    "# Calculate mean for last month in collection\n",
    "ee_monthly_snow_cloud_collection = nsa.imagecollection_monthly_mean(months_to_save, ee_snow_cloud_collection)\n"
   ]
  },
  {
   "cell_type": "code",
   "execution_count": 22,
   "metadata": {},
   "outputs": [
    {
     "name": "stdout",
     "output_type": "stream",
     "text": [
      "2\n"
     ]
    }
   ],
   "source": [
    "collection_length = ee_monthly_snow_cloud_collection.size().getInfo()\n",
    "print(collection_length)"
   ]
  },
  {
   "cell_type": "code",
   "execution_count": 62,
   "metadata": {},
   "outputs": [
    {
     "name": "stdout",
     "output_type": "stream",
     "text": [
      "<class 'str'>\n",
      "2022-11-01\n",
      "2022-11\n",
      "<class 'str'>\n",
      "2022-10-01\n",
      "2022-10\n"
     ]
    }
   ],
   "source": [
    "for month in months_to_save:\n",
    "    print(type(month))\n",
    "    print(month)\n",
    "    ee_image_date = ee.Date(month)\n",
    "    ee_image = ee_monthly_snow_cloud_collection.filterDate(month).first()\n",
    "    #ee_image = ee_monthly_snow_cloud_collection.filter(\n",
    "    #    ee.Filter.eq('system:time_start', ee.String('2022-11')))\n",
    "    # ee_image = ee_monthly_snow_cloud_collection.first()\n",
    "    image_date = ee_image.get('system:time_start').getInfo()\n",
    "    print(image_date)\n",
    "    #print(ee_image.getInfo())"
   ]
  },
  {
   "cell_type": "code",
   "execution_count": 26,
   "metadata": {},
   "outputs": [
    {
     "ename": "NameError",
     "evalue": "name 'ee_monthly_snow_cloud_collection' is not defined",
     "output_type": "error",
     "traceback": [
      "\u001b[1;31m---------------------------------------------------------------------------\u001b[0m",
      "\u001b[1;31mNameError\u001b[0m                                 Traceback (most recent call last)",
      "Cell \u001b[1;32mIn[26], line 2\u001b[0m\n\u001b[0;32m      1\u001b[0m \u001b[39m# Sort and get last image only in case there's more than one month processed\u001b[39;00m\n\u001b[1;32m----> 2\u001b[0m ee_monthly_snow_cloud_collection \u001b[39m=\u001b[39m ee_monthly_snow_cloud_collection\u001b[39m.\u001b[39msort(\n\u001b[0;32m      3\u001b[0m         prop\u001b[39m=\u001b[39m\u001b[39m'\u001b[39m\u001b[39msystem:time_start\u001b[39m\u001b[39m'\u001b[39m, \n\u001b[0;32m      4\u001b[0m         opt_ascending\u001b[39m=\u001b[39m\u001b[39mFalse\u001b[39;00m)\n\u001b[0;32m      6\u001b[0m ee_last_snow_cloud_image \u001b[39m=\u001b[39m ee_monthly_snow_cloud_collection\u001b[39m.\u001b[39mfirst()\n",
      "\u001b[1;31mNameError\u001b[0m: name 'ee_monthly_snow_cloud_collection' is not defined"
     ]
    }
   ],
   "source": [
    "# Sort and get last image only in case there's more than one month processed\n",
    "ee_monthly_snow_cloud_collection = ee_monthly_snow_cloud_collection.sort(\n",
    "        prop='system:time_start', \n",
    "        opt_ascending=False)\n",
    "\n",
    "ee_last_snow_cloud_image = ee_monthly_snow_cloud_collection.first()\n",
    "last_image_info = ee_last_snow_cloud_image.getInfo()\n",
    "pprint.pprint(last_image_info)"
   ]
  },
  {
   "cell_type": "code",
   "execution_count": 36,
   "metadata": {},
   "outputs": [],
   "source": [
    "# Exportar última imagen de la coleccion al Asset GEE\n",
    "property = ee_last_snow_cloud_image.get('system:time_start').getInfo()\n",
    "image_name = 'MOD10A1_SCI_CCI_' + property\n",
    "\n",
    "if SNOW_EXPORT_TO == 'toAsset':\n",
    "  task = ee.batch.Export.image.toAsset(**{\n",
    "    'image': ee_last_snow_cloud_image,\n",
    "    'description': image_name,\n",
    "    'assetId': pathlib.Path(SNOW_ASSETS_PATH, image_name).as_posix(),\n",
    "    'scale': 500,\n",
    "    'region': ee_territorio_nacional.geometry(),\n",
    "  })\n",
    "elif SNOW_EXPORT_TO == 'toDrive':\n",
    "  task_config = {\n",
    "        'image':ee_last_snow_cloud_image,\n",
    "        'description': image_name,\n",
    "        'scale': 500,\n",
    "        'region':ee_territorio_nacional.geometry(),\n",
    "        'maxPixels': 1E8,\n",
    "        'folder': 'Raster_SCI_CCI'\n",
    "    }\n",
    "    \n",
    "  task = ee.batch.Export.image.toDrive(**task_config)\n",
    "else:\n",
    "  pass # Do Nothing\n"
   ]
  },
  {
   "cell_type": "code",
   "execution_count": null,
   "metadata": {},
   "outputs": [],
   "source": [
    "task.start()"
   ]
  },
  {
   "cell_type": "code",
   "execution_count": null,
   "metadata": {},
   "outputs": [],
   "source": [
    "#check status for 5 min\n",
    "nsa.check_gee_task_status(task, wait_time=300)"
   ]
  },
  {
   "cell_type": "code",
   "execution_count": 84,
   "metadata": {},
   "outputs": [
    {
     "name": "stdout",
     "output_type": "stream",
     "text": [
      "⠦ status: RUNNING {'attempt': 1,\n",
      " 'batch_eecu_usage_seconds': 4109.58056640625,\n",
      " 'creation_timestamp_ms': 1673037906658,\n",
      " 'description': 'MOD10A1_SCI_CCI_2022-12',\n",
      " 'destination_uris': ['https://code.earthengine.google.com/?asset=projects/ee-proyectosequiateleamb/assets/nieve/raster_sci_cci/MOD10A1_SCI_CCI_2022-12'],\n",
      " 'id': '5LJZCV4WXMI6JHIZPBCCWID3',\n",
      " 'name': 'projects/earthengine-legacy/operations/5LJZCV4WXMI6JHIZPBCCWID3',\n",
      " 'start_timestamp_ms': 1673037921549,\n",
      " 'state': 'COMPLETED',\n",
      " 'task_type': 'EXPORT_IMAGE',\n",
      " 'update_timestamp_ms': 1673043113854}\n",
      "2023-01-06 20:45:21.549000+00:00\n",
      "⠧ status: RUNNING "
     ]
    },
    {
     "name": "stdout",
     "output_type": "stream",
     "text": [
      "⠏ status: RUNNING "
     ]
    }
   ],
   "source": [
    "status = task.status()\n",
    "pprint.pprint(status)\n",
    "print(datetime.fromtimestamp(status['start_timestamp_ms']/1000, UTC_TZ))"
   ]
  },
  {
   "cell_type": "code",
   "execution_count": 3,
   "metadata": {},
   "outputs": [],
   "source": [
    "import os"
   ]
  },
  {
   "cell_type": "code",
   "execution_count": 4,
   "metadata": {},
   "outputs": [],
   "source": [
    "def set_snow_variable (var):\n",
    "    try: \n",
    "        globals()[var]\n",
    "        try: \n",
    "            print(os.environ[var])\n",
    "            globals()[var] = os.environ.get(var)\n",
    "            return globals()[var]\n",
    "        except:\n",
    "            print(f'Using default value: {var}={globals()[var]}')\n",
    "            return globals()[var]   \n",
    "    except:\n",
    "        print(f\"Unknown variable\")\n",
    "        return None\n"
   ]
  },
  {
   "cell_type": "code",
   "execution_count": 1,
   "metadata": {},
   "outputs": [
    {
     "name": "stdout",
     "output_type": "stream",
     "text": [
      "Using default value: SNOW_EXPORT_TO=toAsset\n"
     ]
    },
    {
     "data": {
      "text/plain": [
       "'toAsset'"
      ]
     },
     "execution_count": 1,
     "metadata": {},
     "output_type": "execute_result"
    }
   ],
   "source": [
    "\n",
    "import nieve_sequia_auto as nsa\n",
    "nsa.set_snow_variable('SNOW_EXPORT_TO')"
   ]
  },
  {
   "cell_type": "code",
   "execution_count": 57,
   "metadata": {},
   "outputs": [],
   "source": [
    "\n",
    "def check_docker_secret(var):\n",
    "    \n",
    "    docker_secrets_path = \"/var/run/secrets\"\n",
    "    var_path=pathlib.Path(var)\n",
    "    docker_var_path = pathlib.Path(docker_secrets_path,var)   \n",
    "\n",
    "    if len(var_path.parts) > 1 and var_path.exists():\n",
    "            return var_path.as_posix()\n",
    "\n",
    "    elif docker_var_path.exists():\n",
    "            return docker_var_path.as_posix()\n",
    "    else:\n",
    "        print(f\"file not found {var}\")\n",
    "        return None\n"
   ]
  },
  {
   "cell_type": "code",
   "execution_count": 58,
   "metadata": {},
   "outputs": [
    {
     "name": "stdout",
     "output_type": "stream",
     "text": [
      "Using default value: SNOW_SERVICE_CREDENTIALS_FILE=credentials/ee-proyectosequiateleamb-22dbf24d5c96.json\n"
     ]
    },
    {
     "data": {
      "text/plain": [
       "'credentials/ee-proyectosequiateleamb-22dbf24d5c96.json'"
      ]
     },
     "execution_count": 58,
     "metadata": {},
     "output_type": "execute_result"
    }
   ],
   "source": [
    "config_file = nsa.set_script_config_var('SNOW_SERVICE_CREDENTIALS_FILE')\n",
    "check_docker_secret(config_file)"
   ]
  },
  {
   "cell_type": "code",
   "execution_count": 51,
   "metadata": {},
   "outputs": [
    {
     "name": "stdout",
     "output_type": "stream",
     "text": [
      "Using default value: SNOW_SERVICE_CREDENTIALS_FILE=credentials/ee-proyectosequiateleamb-22dbf24d5c96.json\n",
      "credentials/ee-proyectosequiateleamb-22dbf24d5c96.json\n",
      "is dir False\n",
      "exists as is True\n",
      "/var/run/secrets/credentials/ee-proyectosequiateleamb-22dbf24d5c96.json\n",
      "exists as secret: False\n",
      "file not found credentials/ee-proyectosequiateleamb-22dbf24d5c96.json\n"
     ]
    }
   ],
   "source": [
    "var = nsa.set_script_config_var('SNOW_SERVICE_CREDENTIALS_FILE')\n",
    "\n",
    "docker_secrets_path = \"/var/run/secrets\"\n",
    "var_path=pathlib.Path(var)\n",
    "print(var_path.as_posix())\n",
    "print(f\"is dir {var_path.parts=}\")\n",
    "print(f\"exists as is {var_path.exists()}\")\n",
    "docker_var_path = pathlib.Path(docker_secrets_path,var)   \n",
    "print(docker_var_path.as_posix())\n",
    "print(f\"exists as secret: {docker_var_path.exists()}\")\n",
    "if var_path.parts == 1 and var_path.exists():\n",
    "        print(var_path.as_posix())\n",
    "\n",
    "elif docker_var_path.exists():\n",
    "        print(docker_var_path.as_posix())\n",
    "else:\n",
    "    print(f\"file not found {var}\")\n",
    "    "
   ]
  },
  {
   "cell_type": "code",
   "execution_count": 52,
   "metadata": {},
   "outputs": [
    {
     "data": {
      "text/plain": [
       "2"
      ]
     },
     "execution_count": 52,
     "metadata": {},
     "output_type": "execute_result"
    }
   ],
   "source": [
    "var_path = pathlib.Path(\"/something.json\")\n",
    "len(var_path.parts)"
   ]
  }
 ],
 "metadata": {
  "kernelspec": {
   "display_name": "gee_learn",
   "language": "python",
   "name": "python3"
  },
  "language_info": {
   "codemirror_mode": {
    "name": "ipython",
    "version": 3
   },
   "file_extension": ".py",
   "mimetype": "text/x-python",
   "name": "python",
   "nbconvert_exporter": "python",
   "pygments_lexer": "ipython3",
   "version": "3.10.8"
  },
  "orig_nbformat": 4,
  "vscode": {
   "interpreter": {
    "hash": "c4121009421b1f09bd3b893d9823667644fd874f0eb6e9ec9f7435ee9786fdd6"
   }
  }
 },
 "nbformat": 4,
 "nbformat_minor": 2
}
