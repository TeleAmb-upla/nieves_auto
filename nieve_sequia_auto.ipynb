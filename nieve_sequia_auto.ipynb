{
 "cells": [
  {
   "attachments": {},
   "cell_type": "markdown",
   "metadata": {},
   "source": [
    "**Script que genera SCI y CCI de la última imágen disponible en el catálogo de GEE.**\n",
    "\n",
    "SCI: Snow Cover Index\n",
    "\n",
    "CCI: Cloud Cover Index\n",
    "\n",
    "Este script tiene el proposito de automatizar el proceso de exportación del promedio mensual de SCI y CCI. "
   ]
  },
  {
   "attachments": {},
   "cell_type": "markdown",
   "metadata": {},
   "source": [
    "To automate you need to sign-in using a service account\n",
    "1. Create or Select a Google Cloud Project\n",
    "2. Enable the project for 'Earth Engine API'\n",
    "3. Create a service Account\n",
    "    3.1 Grant role: Earth Engine Resource Writer (Avoiding Manage role to limit risk)\n",
    "4. Create keys for service account (json file). Store this file securely\n",
    "5. Activate the service account for GEE here (https://signup.earthengine.google.com/#!/service_accounts)\n",
    "6. test sign in from python."
   ]
  },
  {
   "cell_type": "code",
   "execution_count": 1,
   "metadata": {},
   "outputs": [],
   "source": [
    "# libraries\n",
    "import ee\n",
    "import geemap\n",
    "from datetime import datetime\n",
    "import pytz\n",
    "import json\n",
    "import pprint\n",
    "import pathlib\n",
    "from time import sleep\n",
    "from yaspin import yaspin\n",
    "\n"
   ]
  },
  {
   "cell_type": "code",
   "execution_count": 2,
   "metadata": {},
   "outputs": [],
   "source": [
    "# Custom libraries\n",
    "import nieve_sequia_auto as nsa"
   ]
  },
  {
   "cell_type": "code",
   "execution_count": 3,
   "metadata": {},
   "outputs": [],
   "source": [
    "# Constants\n",
    "GEE_PATHPREFIX = 'projects/earthengine-legacy/assets/'\n",
    "DPA_REGIONES_NACIONALES = 'users/proyectosequiateleamb/Regiones/DPA_regiones_nacional'\n",
    "SAVED_IMAGES_PATH = 'users/proyectosequiateleamb/Nieves/Raster_SCI_CCI'\n",
    "MODIS_MIN_MONTH = '2000-03'\n",
    "UTC_TZ=pytz.timezone('UTC')"
   ]
  },
  {
   "cell_type": "code",
   "execution_count": 4,
   "metadata": {},
   "outputs": [],
   "source": [
    "# Replace Credentials with your service account\n",
    "service_account = \"nieves-test@ee-chompitest.iam.gserviceaccount.com\"\n",
    "credentials = ee.ServiceAccountCredentials(service_account, 'ee-chompitest-ccb9a3676966.json')\n",
    "ee.Initialize(credentials)"
   ]
  },
  {
   "cell_type": "code",
   "execution_count": 5,
   "metadata": {},
   "outputs": [
    {
     "name": "stdout",
     "output_type": "stream",
     "text": [
      "Searching for: users/proyectosequiateleamb/Regiones/DPA_regiones_nacional\n",
      "Found 2 assets\n",
      "Asset successfully found: True\n"
     ]
    }
   ],
   "source": [
    "# Get feature collection for DPA territorio Nacional if found\n",
    "try: \n",
    "    if nsa.check_asset_exists(DPA_REGIONES_NACIONALES):\n",
    "        ee_territorio_nacional = ee.FeatureCollection(DPA_REGIONES_NACIONALES)\n",
    "\n",
    "except:\n",
    "    pass"
   ]
  },
  {
   "cell_type": "code",
   "execution_count": 6,
   "metadata": {},
   "outputs": [],
   "source": [
    "# Get MODIS image Collection and take date from the last image.\n",
    "# Remove images from current month to avoid incomplete months\n",
    "\n",
    "ee_MODIS_collection = (ee.ImageCollection('MODIS/006/MOD10A1'))\n",
    "ee_MODIS_collection = ee_MODIS_collection.filterDate(MODIS_MIN_MONTH, nsa.current_year_month())"
   ]
  },
  {
   "cell_type": "code",
   "execution_count": 7,
   "metadata": {},
   "outputs": [
    {
     "name": "stdout",
     "output_type": "stream",
     "text": [
      "Total images in collection: 8273\n",
      "Distinct months in collection: 273\n",
      "first month: 2000-03-01\n",
      "last month: 2022-12-01\n"
     ]
    }
   ],
   "source": [
    "# Get distinct months in MODIS collection\n",
    "MODIS_distinct_months = nsa.get_ic_distinct_months(ee_MODIS_collection)\n"
   ]
  },
  {
   "cell_type": "code",
   "execution_count": 8,
   "metadata": {},
   "outputs": [
    {
     "name": "stdout",
     "output_type": "stream",
     "text": [
      "Total images saved in folder: 274\n",
      "first month saved: 2000-02-01\n",
      "last month saved: 2022-11-01\n"
     ]
    }
   ],
   "source": [
    "# Get list of months of images already saved \n",
    "saved_assets=nsa.get_asset_list(SAVED_IMAGES_PATH)\n",
    "saved_assets_months = [date[-7:]+'-01' for date in saved_assets]\n",
    "saved_assets_months.sort(reverse=True)\n",
    "\n",
    "print(f\"Total images saved in folder: {len(saved_assets_months)}\")\n",
    "print(f\"first month saved: {saved_assets_months[-1]}\")\n",
    "print(f\"last month saved: {saved_assets_months[0]}\")\n",
    "# mising_months = [date for date in MODIS_distinct_months if date not in saved_assets_months]"
   ]
  },
  {
   "cell_type": "code",
   "execution_count": 9,
   "metadata": {},
   "outputs": [
    {
     "name": "stdout",
     "output_type": "stream",
     "text": [
      "Pending months: ['2022-12-01']\n"
     ]
    }
   ],
   "source": [
    "# Check if last available month in MODIS is already saved\n",
    "\n",
    "last_saved = saved_assets_months[0]\n",
    "last_available = MODIS_distinct_months[0]\n",
    "if(last_saved == last_available):\n",
    "    print(f\"Last available month is already saved: {last_available}\")\n",
    "else:\n",
    "    months_to_save=[last_available]\n",
    "    print(f\"Pending months: {months_to_save}\")\n",
    "\n"
   ]
  },
  {
   "cell_type": "code",
   "execution_count": 10,
   "metadata": {},
   "outputs": [],
   "source": [
    "\n",
    "# Calcular y seleccionar banda de nieve binario y nubes en la coleccion\n",
    "ee_snow_cloud_collection = ee_MODIS_collection.map(nsa.snow_cloud_mask).select('SCI', 'CCI');\n"
   ]
  },
  {
   "cell_type": "code",
   "execution_count": 11,
   "metadata": {},
   "outputs": [
    {
     "name": "stdout",
     "output_type": "stream",
     "text": [
      "Processing: 2022-12-01 00:00:00+00:00 - 2023-01-01 00:00:00+00:00\n"
     ]
    }
   ],
   "source": [
    "# Calculate mean for last month in collection\n",
    "if len(months_to_save)>=1:\n",
    "    ee_monthly_snow_cloud_collection = nsa.imagecollection_monthly_mean(months_to_save, ee_snow_cloud_collection)\n"
   ]
  },
  {
   "cell_type": "code",
   "execution_count": 12,
   "metadata": {},
   "outputs": [],
   "source": [
    "# Sort and get last image only in case there's more than one month processed\n",
    "ee_monthly_snow_cloud_collection = ee_monthly_snow_cloud_collection.sort(\n",
    "        prop='system:time_start', \n",
    "        opt_ascending=False)\n",
    "\n",
    "ee_last_snow_cloud_image = ee_monthly_snow_cloud_collection.first()"
   ]
  },
  {
   "cell_type": "code",
   "execution_count": 13,
   "metadata": {},
   "outputs": [
    {
     "name": "stdout",
     "output_type": "stream",
     "text": [
      "{'bands': [{'crs': 'EPSG:4326',\n",
      "            'crs_transform': [1, 0, 0, 0, 1, 0],\n",
      "            'data_type': {'max': 100,\n",
      "                          'min': 0,\n",
      "                          'precision': 'double',\n",
      "                          'type': 'PixelType'},\n",
      "            'id': 'SCI'},\n",
      "           {'crs': 'EPSG:4326',\n",
      "            'crs_transform': [1, 0, 0, 0, 1, 0],\n",
      "            'data_type': {'max': 100,\n",
      "                          'min': 0,\n",
      "                          'precision': 'double',\n",
      "                          'type': 'PixelType'},\n",
      "            'id': 'CCI'}],\n",
      " 'properties': {'month': 12,\n",
      "                'system:index': '0',\n",
      "                'system:time_start': '2022-12',\n",
      "                'year': 2022},\n",
      " 'type': 'Image'}\n"
     ]
    }
   ],
   "source": [
    "last_image_info = ee_last_snow_cloud_image.getInfo()\n",
    "pprint.pprint(last_image_info)"
   ]
  },
  {
   "cell_type": "code",
   "execution_count": 14,
   "metadata": {},
   "outputs": [],
   "source": [
    "# Exportar última imagen de la coleccion al Asset GEE\n",
    "property = ee_last_snow_cloud_image.get('system:time_start').getInfo()\n",
    "image_name = 'MOD10A1_SCI_CCI_' + property\n",
    "\n",
    "\n",
    "task = ee.batch.Export.image.toAsset(**{\n",
    "  'image': ee_last_snow_cloud_image,\n",
    "  'description': image_name,\n",
    "  #'assetId': pathlib.Path(SAVED_IMAGES_PATH, image_name).as_posix()\n",
    "  'assetId': 'projects/ee-chompitest/assets/snow/Raster_SCI_CCI/'+image_name,\n",
    "  'scale': 500,\n",
    "  'region': ee_territorio_nacional.geometry(),\n",
    "})\n"
   ]
  },
  {
   "cell_type": "code",
   "execution_count": 15,
   "metadata": {},
   "outputs": [],
   "source": [
    "task.start()"
   ]
  },
  {
   "cell_type": "code",
   "execution_count": 18,
   "metadata": {},
   "outputs": [
    {
     "name": "stdout",
     "output_type": "stream",
     "text": [
      "status: FAILED\n",
      "Cannot overwrite asset 'projects/ee-chompitest/assets/snow/Raster_SCI_CCI/MOD10A1_SCI_CCI_2022-12'.\n"
     ]
    }
   ],
   "source": [
    "nsa.check_gee_task_status(task, wait_time=30)"
   ]
  }
 ],
 "metadata": {
  "kernelspec": {
   "display_name": "gee_learn",
   "language": "python",
   "name": "python3"
  },
  "language_info": {
   "codemirror_mode": {
    "name": "ipython",
    "version": 3
   },
   "file_extension": ".py",
   "mimetype": "text/x-python",
   "name": "python",
   "nbconvert_exporter": "python",
   "pygments_lexer": "ipython3",
   "version": "3.10.8"
  },
  "orig_nbformat": 4,
  "vscode": {
   "interpreter": {
    "hash": "c4121009421b1f09bd3b893d9823667644fd874f0eb6e9ec9f7435ee9786fdd6"
   }
  }
 },
 "nbformat": 4,
 "nbformat_minor": 2
}
